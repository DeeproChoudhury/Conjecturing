{
 "cells": [
  {
   "cell_type": "code",
   "execution_count": 1,
   "metadata": {},
   "outputs": [
    {
     "name": "stdout",
     "output_type": "stream",
     "text": [
      "['/home/dc755/Conjecturing', '/home/dc755/.conda/envs/conj_env/lib/python310.zip', '/home/dc755/.conda/envs/conj_env/lib/python3.10', '/home/dc755/.conda/envs/conj_env/lib/python3.10/lib-dynload', '', '/home/dc755/.conda/envs/conj_env/lib/python3.10/site-packages', '/home/dc755/Conjecturing/', '/home/dc755/Conjecturing/conjecture_generation/', '/home/dc755/Conjecturing/conjecture_generation/src/']\n",
      "[exp, Abs]\n"
     ]
    }
   ],
   "source": [
    "import os\n",
    "import sys\n",
    "\n",
    "sys.path.append(\"/home/dc755/Conjecturing/\")\n",
    "sys.path.append(\"/home/dc755/Conjecturing/conjecture_generation/\")\n",
    "sys.path.append(\"/home/dc755/Conjecturing/conjecture_generation/src/\")\n",
    "WORK_DIR = os.getcwd()\n",
    "print(sys.path)\n",
    "\n",
    "from utils.create import load_template\n",
    "from utils.json_utils import write_to_new_json, load_json_as_list\n",
    "from conjecture_generation.src.domain import Domain\n",
    "from conjecture_generation.src.func_parameterization import FunctionParameterization\n",
    "from conjecture_generation.src.functions import exponential_box\n",
    "from conjecture_generation.src.conj_gen import find_new_conj, sgd_signum_loss, save_conj\n",
    "from initial_functions import poly_box\n",
    "import dsp_functions"
   ]
  },
  {
   "cell_type": "code",
   "execution_count": 2,
   "metadata": {},
   "outputs": [],
   "source": [
    "domain = Domain(\n",
    "    func_box=poly_box,\n",
    "    max_degree=1,\n",
    "    latent_dim=1,\n",
    "    evaluation_dimension=10,\n",
    "    testset_size=100,\n",
    ")"
   ]
  },
  {
   "cell_type": "code",
   "execution_count": 3,
   "metadata": {},
   "outputs": [
    {
     "name": "stderr",
     "output_type": "stream",
     "text": [
      "100%|██████████| 100/100 [00:00<00:00, 4400.47it/s]\n"
     ]
    },
    {
     "name": "stdout",
     "output_type": "stream",
     "text": [
      "Initial θ vector is: [8.0, -1.0, 4.0]\n",
      "initial conj number: 0 is: 4.00000000000000..associated loss is: 0.0\n",
      "Conjecture is initial conjecture:  4.00000000000000\n",
      "initial conj number: 1 is: 16.0*x_1**2 + 2.0..associated loss is: 0.0\n",
      "Conjecture is initial conjecture:  16.0*x_1**2 + 2.0\n",
      "initial conj number: 2 is: 6.0*x_1**2 + 14.0..associated loss is: 0.0\n",
      "Conjecture is initial conjecture:  6.0*x_1**2 + 14.0\n",
      "-0.72\n",
      "initial conj number: 3 is: 11.0*x_1**2 - 2.0..associated loss is: 0.23193856000000002\n",
      "Actual learning needed\n",
      "Epoch number: 0...initial_θ_vector is: [ 8. -1.  4.]..initial_loss is: 0.23193856000000002\n",
      "Differential loss is: [0. 0. 0.]\n",
      "Epoch number: 1..θ_vector is: [ 1. -1.  4.]..loss is: 0.0\n",
      "conj_func < 0:  -2.0*y_1 - 4.0\n",
      "The final conjecture is: -2.0*x_1**2 - 4.0 < 0\n",
      "Final conjecture:  -2.0*x_1**2 - 4.0\n",
      "Found 4 conjectures in total!\n"
     ]
    }
   ],
   "source": [
    "\n",
    "[x_var, combs, eval_point] = domain.generate_evaluation_domain_continuous(\n",
    "    pnt_start=-3, pnt_end=3, n_pnts=100\n",
    ")\n",
    "\n",
    "[y_symbs, num_pars, func_evals, eval_data] = domain.generate_hypothesis_space(\n",
    "    vars=x_var, cmbs=combs, eval_points=eval_point\n",
    ")\n",
    "\n",
    "func_param = FunctionParameterization(num_pars=num_pars, y_symbs=y_symbs)\n",
    "print(f\"Initial θ vector is: {func_param.θ}\")\n",
    "\n",
    "no_of_tries = 10000\n",
    "counter = no_of_tries\n",
    "while counter > 0:\n",
    "    [initial_conj, initial_loss, flag, sig_val] = find_new_conj(\n",
    "        num_pars=num_pars,\n",
    "        eval_data=eval_data,\n",
    "        y_symbs=y_symbs,\n",
    "        func_evals=func_evals,\n",
    "    )\n",
    "    print(\n",
    "        f\"initial conj number: {no_of_tries - counter} is: {initial_conj}..associated loss is: {initial_loss}\"\n",
    "    )\n",
    "    initial_conj = str(initial_conj)\n",
    "    if not flag:\n",
    "        print(\"Conjecture is initial conjecture: \", initial_conj)\n",
    "        counter -= 1\n",
    "    else:\n",
    "        break\n",
    "\n",
    "if flag:\n",
    "    print(\"Actual learning needed\")\n",
    "    [final_conj, final_loss, not_contains_zero] = sgd_signum_loss(\n",
    "        y_symbs=y_symbs,\n",
    "        training_data=eval_data,\n",
    "        func_param=func_param,\n",
    "        sig_val=sig_val,\n",
    "        batch_prct=0.1,\n",
    "        num_epochs=100,\n",
    "        θ_differential=100,\n",
    "        learn_rate=10,\n",
    "        initial_loss=initial_loss,\n",
    "        loss_type=\"signum\",\n",
    "        comp_number=1,\n",
    "        num_pars=num_pars,\n",
    "    )\n",
    "\n",
    "    sub_list = zip(y_symbs, func_evals)\n",
    "    final_conj = final_conj.subs(sub_list)\n",
    "    final_conj = str(final_conj)\n",
    "    greater_than, less_than = [\">\", \"<\"]\n",
    "    if not not_contains_zero:\n",
    "        if sig_val > 0:\n",
    "            print(f\"The final conjecture is: {final_conj} >= 0\")\n",
    "        else:\n",
    "            final_conj = final_conj.replace(\">\", \"<\")\n",
    "            print(f\"The final conjecture is: {final_conj} <= 0\")\n",
    "\n",
    "    if sig_val > 0:\n",
    "        print(f\"The final conjecture is: {final_conj} > 0\")\n",
    "    else:\n",
    "        final_conj = final_conj.replace(\">\", \"<\")\n",
    "        print(f\"The final conjecture is: {final_conj} < 0\")\n",
    "\n",
    "    # file_saved.append(local_save_conj(initial_conj=initial_conj, final_conj=final_conj, sig_val=sig_val))\n",
    "    print(\"Final conjecture: \", final_conj)\n",
    "\n",
    "    print(f\"Found {no_of_tries - counter + 1} conjectures in total!\")\n",
    "\n",
    "else:\n",
    "    print(\"Couldn't find conjecture needing training but saved 100 conjectures!\")"
   ]
  },
  {
   "cell_type": "code",
   "execution_count": null,
   "metadata": {},
   "outputs": [],
   "source": []
  }
 ],
 "metadata": {
  "kernelspec": {
   "display_name": "new_env",
   "language": "python",
   "name": "python3"
  },
  "language_info": {
   "codemirror_mode": {
    "name": "ipython",
    "version": 3
   },
   "file_extension": ".py",
   "mimetype": "text/x-python",
   "name": "python",
   "nbconvert_exporter": "python",
   "pygments_lexer": "ipython3",
   "version": "3.10.4"
  }
 },
 "nbformat": 4,
 "nbformat_minor": 2
}
