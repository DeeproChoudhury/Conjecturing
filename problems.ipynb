{
 "cells": [
  {
   "cell_type": "code",
   "execution_count": 2,
   "metadata": {},
   "outputs": [
    {
     "name": "stdout",
     "output_type": "stream",
     "text": [
      "['/home/dc755/Conjecturing', '/usr/lib/python310.zip', '/usr/lib/python3.10', '/usr/lib/python3.10/lib-dynload', '', '/home/dc755/.local/lib/python3.10/site-packages', '/usr/local/lib/python3.10/dist-packages', '/usr/lib/python3/dist-packages', '/usr/lib/python3.10/dist-packages', '/home/dc755/Conjecturing/', '../', '/home/dc755/Portal-to-ISAbelle/src/main/python']\n",
      "intialised_env\n"
     ]
    }
   ],
   "source": [
    "import sys\n",
    "import os\n",
    "sys.path.append('/home/dc755/Conjecturing/')\n",
    "sys.path.append('../')\n",
    "os.environ['PISA_PATH'] = '/home/dc755/Portal-to-ISAbelle/src/main/python'\n",
    "import dsp_functions\n",
    "\n",
    "checker = dsp_functions.Checker(\n",
    "    working_dir='/home/dc755/Isabelle2022/src/HOL/Examples',\n",
    "    isa_path='/home/dc755/Isabelle2022',\n",
    "    theory_file='/home/dc755/Isabelle2022/src/HOL/Examples/Interactive.thy',\n",
    "    port=8000\n",
    ")"
   ]
  },
  {
   "cell_type": "code",
   "execution_count": 3,
   "metadata": {},
   "outputs": [
    {
     "name": "stdout",
     "output_type": "stream",
     "text": [
      "Server started in a background thread. Notebook can proceed to next cells.\n"
     ]
    },
    {
     "name": "stdout",
     "output_type": "stream",
     "text": [
      "[info] welcome to sbt 1.4.3 (Ubuntu Java 11.0.22)\n",
      "[info] loading settings for project portal-to-isabelle-build from plugins.sbt ...\n",
      "[info] loading project definition from /home/dc755/Portal-to-ISAbelle/project\n",
      "[info] loading settings for project portal-to-isabelle from build.sbt ...\n",
      "[info] set current project to PISA (in build file:/home/dc755/Portal-to-ISAbelle/)\n",
      "[info] running pisa.server.PisaOneStageServer8000 \n",
      "Server is running. Press Ctrl-C to stop.\n"
     ]
    }
   ],
   "source": [
    "import threading\n",
    "import subprocess\n",
    "\n",
    "def start_server():\n",
    "    directory = \"/home/dc755/Portal-to-ISAbelle/\"\n",
    "    command = \"sbt \\\"runMain pisa.server.PisaOneStageServer8000\\\"\"\n",
    "    subprocess.run(command, shell=True, cwd=directory, text=True)\n",
    "\n",
    "\n",
    "server_thread = threading.Thread(target=start_server)\n",
    "\n",
    "server_thread.start()\n",
    "\n",
    "print(\"Server started in a background thread. Notebook can proceed to next cells.\")"
   ]
  },
  {
   "cell_type": "code",
   "execution_count": 9,
   "metadata": {},
   "outputs": [
    {
     "name": "stdout",
     "output_type": "stream",
     "text": [
      "in check\n",
      "trying\n",
      "----------Path to Isabelle source----------\n",
      "/home/dc755/Isabelle2022\n",
      "----------Path to Isabelle working directory----------\n",
      "/home/dc755/Isabelle2022/src/HOL/Examples\n",
      "----------Path to Isabelle theory file----------\n",
      "/home/dc755/Isabelle2022/src/HOL/Examples/Interactive.thy\n",
      "in get_parsed\n",
      "theory:  theory Interactive imports HOL.HOL Complex_Main \"HOL-Library.Code_Target_Numeral\" \"HOL-Library.Sum_of_Squares\" \"Symmetric_Polynomials.Vieta\" \"HOL-Computational_Algebra.Computational_Algebra\" \"HOL-Number_Theory.Number_Theory\" \n",
      " begin\n",
      "\n",
      "lemma \"sqrt 2 + sqrt 3 < sqrt 10\"\n",
      "proof -\n",
      "  show ?thesis\n",
      "    sledgehammer\n",
      "qed\n",
      "\n",
      "-----------------\n",
      "steps:  ['theory Interactive imports HOL.HOL Complex_Main \"HOL-Library.Code_Target_Numeral\" \"HOL-Library.Sum_of_Squares\" \"Symmetric_Polynomials.Vieta\" \"HOL-Computational_Algebra.Computational_Algebra\" \"HOL-Number_Theory.Number_Theory\" \\n begin', 'lemma \"sqrt 2 + sqrt 3 < sqrt 10\"', 'proof -', 'show ?thesis', 'normalhammer', 'qed']\n",
      "heuristic:  by auto\n",
      "error:  Step error: Failed to apply initial proof method (line 1):\n",
      "goal (1 subgoal):\n",
      " 1. sqrt 2 + sqrt 3 < sqrt 10\n",
      "At command \"by\" (line 1)\n",
      "heuristic:  by simp\n",
      "error:  Step error: Failed to apply initial proof method (line 1):\n",
      "goal (1 subgoal):\n",
      " 1. sqrt 2 + sqrt 3 < sqrt 10\n",
      "At command \"by\" (line 1)\n",
      "heuristic:  by blast\n",
      "error:  Step error: Failed to apply initial proof method (line 1):\n",
      "goal (1 subgoal):\n",
      " 1. sqrt 2 + sqrt 3 < sqrt 10\n",
      "At command \"by\" (line 1)\n",
      "heuristic:  by fastforce\n",
      "error:  Step error: Failed to apply initial proof method (line 1):\n",
      "goal (1 subgoal):\n",
      " 1. sqrt 2 + sqrt 3 < sqrt 10\n",
      "At command \"by\" (line 1)\n",
      "heuristic:  by force\n",
      "error:  Step error: Failed to apply initial proof method (line 1):\n",
      "goal (1 subgoal):\n",
      " 1. sqrt 2 + sqrt 3 < sqrt 10\n",
      "At command \"by\" (line 1)\n",
      "heuristic:  by eval\n",
      "error:  Step error: Wellsortedness error\n",
      "(in code equation root ?n ?x \\<equiv> if equal_nat_inst.equal_nat ?n zero_nat_inst.zero_nat then zero_real_inst.zero_real else the_inv_into top_set_inst.top_set (\\<lambda>y. times_real_inst.times_real (sgn_real_inst.sgn_real y) (abs_real_inst.abs_real y ^ ?n)) ?x,\n",
      "with dependency \"Pure.dummy_pattern\" -> \"sqrt\" -> \"root\"):\n",
      "Type real not of sort {enum,equal}\n",
      "No type arity real :: enum\n",
      "At command \"by\" (line 1)\n",
      "heuristic:  by presburger\n",
      "error:  Step error: Failed to apply initial proof method (line 1):\n",
      "goal (1 subgoal):\n",
      " 1. sqrt 2 + sqrt 3 < sqrt 10\n",
      "At command \"by\" (line 1)\n",
      "heuristic:  by sos\n",
      "error:  Step error: Undefined method: \"sos\" (line 1)\n",
      "At command \"by\" (line 1)\n",
      "heuristic:  by arith\n",
      "error:  Step error: Failed to apply initial proof method (line 1):\n",
      "goal (1 subgoal):\n",
      " 1. sqrt 2 + sqrt 3 < sqrt 10\n",
      "At command \"by\" (line 1)\n",
      "heuristic:  by linarith\n",
      "error:  Step error: Failed to apply initial proof method (line 1):\n",
      "goal (1 subgoal):\n",
      " 1. sqrt 2 + sqrt 3 < sqrt 10\n",
      "At command \"by\" (line 1)\n",
      "heuristic:  by (auto simp: field_simps)\n",
      "error:  Step error: Failed to apply initial proof method (line 1):\n",
      "goal (1 subgoal):\n",
      " 1. sqrt 2 + sqrt 3 < sqrt 10\n",
      "At command \"by\" (line 1)\n",
      "\n",
      "==== Success: False\n",
      "--- Complete proof:\n",
      "\n"
     ]
    }
   ],
   "source": [
    "theorem_and_sledgehammer_proof = \"\"\"\n",
    "lemma \"sqrt 2 + sqrt 3 < sqrt 10\"\n",
    "proof -\n",
    "  show ?thesis\n",
    "  sledgehammer\n",
    "qed\n",
    "\"\"\"\n",
    "\n",
    "result = checker.check(theorem_and_sledgehammer_proof)\n",
    "\n",
    "print(\"\\n==== Success: %s\" % result['success'])\n",
    "print(\"--- Complete proof:\\n%s\" % result['theorem_and_proof'])"
   ]
  },
  {
   "cell_type": "code",
   "execution_count": null,
   "metadata": {},
   "outputs": [],
   "source": []
  }
 ],
 "metadata": {
  "kernelspec": {
   "display_name": "Python 3",
   "language": "python",
   "name": "python3"
  },
  "language_info": {
   "codemirror_mode": {
    "name": "ipython",
    "version": 3
   },
   "file_extension": ".py",
   "mimetype": "text/x-python",
   "name": "python",
   "nbconvert_exporter": "python",
   "pygments_lexer": "ipython3",
   "version": "3.10.12"
  }
 },
 "nbformat": 4,
 "nbformat_minor": 2
}
